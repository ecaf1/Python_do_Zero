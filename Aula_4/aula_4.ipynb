{
 "cells": [
  {
   "cell_type": "markdown",
   "metadata": {},
   "source": [
    "## Feijão com arroz, WHILE !"
   ]
  },
  {
   "cell_type": "code",
   "execution_count": 10,
   "metadata": {},
   "outputs": [
    {
     "name": "stdout",
     "output_type": "stream",
     "text": [
      "1\n",
      "2\n",
      "3\n",
      "4\n",
      "5\n"
     ]
    }
   ],
   "source": [
    "# Define a variável x como 1\n",
    "x = 1\n",
    "# Enquanto x for menor ou igual a 5, repita o bloco de códigobaixo\n",
    "while x <= 5:\n",
    "    # Imprime o valor atual de x\n",
    "    print(x)\n",
    "        # Incrementa o valor de x em 1\n",
    "    x += 1\n"
   ]
  },
  {
   "cell_type": "code",
   "execution_count": 9,
   "metadata": {},
   "outputs": [
    {
     "data": {
      "text/plain": [
       "\"bla 'bla'bla\""
      ]
     },
     "execution_count": 9,
     "metadata": {},
     "output_type": "execute_result"
    }
   ],
   "source": [
    "\"bla 'bla'bla\""
   ]
  },
  {
   "cell_type": "markdown",
   "metadata": {},
   "source": [
    "## Despertador "
   ]
  },
  {
   "cell_type": "code",
   "execution_count": 12,
   "metadata": {},
   "outputs": [
    {
     "name": "stdout",
     "output_type": "stream",
     "text": [
      "RIIING! O despertador toca.\n",
      "RIIING! O despertador toca novamente.\n",
      "RIIING! O despertador toca novamente.\n",
      "RIIING! O despertador toca novamente.\n",
      "RIIING! O despertador toca novamente.\n",
      "RIIING! O despertador toca novamente.\n",
      "O despertador desistiu. Você está atrasado!\n"
     ]
    }
   ],
   "source": [
    "print(\"RIIING! O despertador toca.\")\n",
    "soneca_pressionada = True\n",
    "tentativas = 0\n",
    "\n",
    "while soneca_pressionada and tentativas < 5:\n",
    "    resposta = input(\"Você vai levantar ou pressionar soneca? (levantar/soneca): \").lower()\n",
    "    tentativas += 1\n",
    "    if resposta == \"levantar\":\n",
    "        print(\"Bom dia! Hora de começar o dia.\")\n",
    "        soneca_pressionada = False\n",
    "    else:\n",
    "        print(\"RIIING! O despertador toca novamente.\")\n",
    "        if tentativas == 5:\n",
    "            print(\"O despertador desistiu. Você está atrasado!\")\n"
   ]
  },
  {
   "cell_type": "markdown",
   "metadata": {},
   "source": [
    "## Feijão com arroz, For !"
   ]
  },
  {
   "cell_type": "code",
   "execution_count": null,
   "metadata": {},
   "outputs": [],
   "source": [
    "for numero in range(1, 6):  # Itera de 1 a 5\n",
    "    print(numero)\n"
   ]
  },
  {
   "cell_type": "markdown",
   "metadata": {},
   "source": [
    "## P.A."
   ]
  },
  {
   "cell_type": "code",
   "execution_count": 18,
   "metadata": {},
   "outputs": [
    {
     "name": "stdout",
     "output_type": "stream",
     "text": [
      "A soma dos primeiros 100 termos da PA é: 5050\n"
     ]
    }
   ],
   "source": [
    "# Entradas do usuário\n",
    "a1 = int(input(\"Digite o primeiro termo da PA (a1): \"))\n",
    "r = int(input(\"Digite a razão da PA (r): \"))\n",
    "n = int(input(\"Quantos termos você deseja somar? \"))\n",
    "\n",
    "# Calculando a soma dos termos da PA\n",
    "soma = 0\n",
    "\n",
    "for i in range(n):\n",
    "    termo_atual = a1 + i*r  # Calcula o termo atual\n",
    "    soma += termo_atual  # Adiciona o termo atual à soma\n",
    "print(f\"A soma dos primeiros {n} termos da PA é: {soma}\")"
   ]
  },
  {
   "cell_type": "markdown",
   "metadata": {},
   "source": []
  },
  {
   "cell_type": "code",
   "execution_count": 17,
   "metadata": {},
   "outputs": [
    {
     "name": "stdout",
     "output_type": "stream",
     "text": [
      "0\n",
      "2\n",
      "4\n",
      "6\n",
      "8\n"
     ]
    }
   ],
   "source": [
    "for i in range(0, 10, 2):\n",
    "    print(i)"
   ]
  },
  {
   "cell_type": "code",
   "execution_count": null,
   "metadata": {},
   "outputs": [],
   "source": []
  }
 ],
 "metadata": {
  "kernelspec": {
   "display_name": "machine_learning",
   "language": "python",
   "name": "machine_learning"
  },
  "language_info": {
   "codemirror_mode": {
    "name": "ipython",
    "version": 3
   },
   "file_extension": ".py",
   "mimetype": "text/x-python",
   "name": "python",
   "nbconvert_exporter": "python",
   "pygments_lexer": "ipython3",
   "version": "3.10.12"
  }
 },
 "nbformat": 4,
 "nbformat_minor": 2
}
