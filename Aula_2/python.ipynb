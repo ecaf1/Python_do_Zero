{
 "cells": [
  {
   "cell_type": "markdown",
   "metadata": {},
   "source": [
    "# Aula 2 - Python do Zero"
   ]
  },
  {
   "cell_type": "code",
   "execution_count": 1,
   "metadata": {},
   "outputs": [
    {
     "name": "stdout",
     "output_type": "stream",
     "text": [
      "a == c: True\n",
      "a != b: True\n",
      "a < b: True\n",
      "a <= c: True\n",
      "b > c: True\n",
      "b >= c: True\n"
     ]
    }
   ],
   "source": [
    "# Exemplo de operadores lógicos\n",
    "\n",
    "# Definindo algumas variáveis\n",
    "a = 5\n",
    "b = 10\n",
    "c = 5\n",
    "\n",
    "# Verificando se a é igual a c\n",
    "print(\"a == c:\", a == c)  # Saída: True\n",
    "\n",
    "# Verificando se a é diferente de b\n",
    "print(\"a != b:\", a != b)  # Saída: True\n",
    "\n",
    "# Verificando se a é menor que b\n",
    "print(\"a < b:\", a < b)  # Saída: True\n",
    "\n",
    "# Verificando se a é menor ou igual a c\n",
    "print(\"a <= c:\", a <= c)  # Saída: True\n",
    "\n",
    "# Verificando se b é maior que c\n",
    "print(\"b > c:\", b > c)  # Saída: True\n",
    "\n",
    "# Verificando se b é maior ou igual a c\n",
    "print(\"b >= c:\", b >= c)  # Saída: True\n"
   ]
  },
  {
   "cell_type": "code",
   "execution_count": 2,
   "metadata": {},
   "outputs": [
    {
     "name": "stdout",
     "output_type": "stream",
     "text": [
      "x < y and y < z: True\n",
      "x == y or y == z: False\n",
      "not(x == y): True\n"
     ]
    }
   ],
   "source": [
    "# Exemplo de operadores lógicos and, or, not\n",
    "\n",
    "# Definindo algumas variáveis\n",
    "x = 5\n",
    "y = 10\n",
    "z = 15\n",
    "\n",
    "# Exemplo de 'and': Retorna True se ambas as condições forem verdadeiras\n",
    "print(\"x < y and y < z:\", x < y and y < z)  # Saída: True\n",
    "\n",
    "# Exemplo de 'or': Retorna True se pelo menos uma das condições for verdadeira\n",
    "print(\"x == y or y == z:\", x == y or y == z)  # Saída: False\n",
    "\n",
    "# Exemplo de 'not': Inverte o valor da condição\n",
    "print(\"not(x == y):\", not(x == y))  # Saída: True"
   ]
  },
  {
   "cell_type": "markdown",
   "metadata": {},
   "source": [
    "## Tabela verdade \n",
    "\n",
    "| A     | B     | A and B | A or B | not A |\n",
    "|-------|-------|---------|--------|-------|\n",
    "| True  | True  |  True   |  True  | False |\n",
    "| True  | False |  False  |  True  | False |\n",
    "| False | True  |  False  |  True  | True  |\n",
    "| False | False |  False  |  False | True  |\n"
   ]
  },
  {
   "cell_type": "markdown",
   "metadata": {},
   "source": []
  },
  {
   "cell_type": "markdown",
   "metadata": {},
   "source": [
    "## Exercicios\n",
    "\n",
    "### Exercício de Operadores Lógicos:\n",
    "\n",
    "#### Escreva um programa em Python que solicita ao usuário duas idades e verifica se ambas são maiores que 18 anos. Se ambas as idades forem maiores que 18, exiba \"Ambos são maiores de idade\", caso contrário, exiba \"Pelo menos uma pessoa não é maior de idade\".\n",
    "\n",
    "### Exercício com Estrutura Condicional:\n",
    "\n",
    "#### Escreva um programa que solicita ao usuário um número inteiro e verifica se é positivo, negativo ou zero. O programa deve exibir uma mensagem correspondente.\n",
    "\n",
    "### Exercício com elif e else:\n",
    "\n",
    "#### Crie um programa que solicite ao usuário um número inteiro e verifique se ele é divisível por 2, 3, ou ambos. Se o número for divisível apenas por 2, exiba \"O número é divisível por 2\", se for divisível apenas por 3, exiba \"O número é divisível por 3\", se for divisível por ambos, exiba \"O número é divisível por 2 e por 3\", caso contrário, exiba \"O número não é divisível por 2 nem por 3\"."
   ]
  },
  {
   "cell_type": "markdown",
   "metadata": {},
   "source": []
  }
 ],
 "metadata": {
  "kernelspec": {
   "display_name": "Python 3",
   "language": "python",
   "name": "python3"
  },
  "language_info": {
   "codemirror_mode": {
    "name": "ipython",
    "version": 3
   },
   "file_extension": ".py",
   "mimetype": "text/x-python",
   "name": "python",
   "nbconvert_exporter": "python",
   "pygments_lexer": "ipython3",
   "version": "3.12.1"
  }
 },
 "nbformat": 4,
 "nbformat_minor": 2
}
