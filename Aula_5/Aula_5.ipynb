{
 "cells": [
  {
   "cell_type": "code",
   "execution_count": 8,
   "metadata": {},
   "outputs": [
    {
     "name": "stdout",
     "output_type": "stream",
     "text": [
      "O índice 0 corresponde ao nome Ana\n",
      "O índice 1 corresponde ao nome Carlos\n",
      "O índice 2 corresponde ao nome João\n",
      "O índice 3 corresponde ao nome Maria\n"
     ]
    }
   ],
   "source": [
    "#Usando a função enumerate:\n",
    "\n",
    "# Cria uma lista com quatro nomes\n",
    "nomes = ['Ana', 'Carlos', 'João', 'Maria']\n",
    "# Loop for que percorre a lista de nomes utilizando a função\n",
    "for i, nome in enumerate(nomes):\n",
    "    # Imprime uma mensagem com o índice e o nome correspondente\n",
    "    print(f'O índice {i} corresponde ao nome {nome}')"
   ]
  },
  {
   "cell_type": "code",
   "execution_count": 10,
   "metadata": {},
   "outputs": [
    {
     "name": "stdout",
     "output_type": "stream",
     "text": [
      "Processando número: 1\n",
      "Processando número: 2\n",
      "Processando número: 3\n",
      "Encontrou número negativo: -4\n"
     ]
    }
   ],
   "source": [
    "# Cria uma lista de números\n",
    "numeros = [1, 2, 3, -4, 5, 6]\n",
    "# Itera em todos os números da lista\n",
    "for num in numeros:\n",
    "# Caso o número atual seja negativo, imprime uma mensagem e\n",
    "    if num < 0:\n",
    "        print(f\"Encontrou número negativo: {num}\")\n",
    "        break\n",
    "    print(f\"Processando número: {num}\")"
   ]
  },
  {
   "cell_type": "code",
   "execution_count": 1,
   "metadata": {},
   "outputs": [
    {
     "name": "stdout",
     "output_type": "stream",
     "text": [
      "Você digitou: teste\n",
      "Você digitou: \n",
      "Você digitou: teste2\n",
      "Você digitou: \n",
      "Fim do programa.\n"
     ]
    }
   ],
   "source": [
    "while True:\n",
    "# Lê uma entrada do usuário\n",
    "    entrada = input(\"Digite um valor (ou 'sair' para encerrar): \")\n",
    "    # Se o usuário digitar sair, interrompe o loop\n",
    "    if entrada == 'sair':\n",
    "        break\n",
    "    # Imprime a entrada do usuário\n",
    "    print(f'Você digitou: {entrada}')\n",
    "print('Fim do programa.')"
   ]
  },
  {
   "cell_type": "code",
   "execution_count": 5,
   "metadata": {},
   "outputs": [
    {
     "name": "stdout",
     "output_type": "stream",
     "text": [
      "1\n",
      "2\n",
      "3\n",
      "4\n",
      "5\n",
      "6\n",
      "7\n",
      "8\n",
      "9\n",
      "10\n"
     ]
    }
   ],
   "source": [
    "numeros = [1, 2, 3, 4, 5, 6, 7, 8, 9, 10]\n",
    "for numero in numeros:\n",
    "# Se o número for par, pula a execução do resto do bloco\n",
    "    if numero % 2 == 0:\n",
    "        pass\n",
    "    # Imprime o número\n",
    "    print(numero)"
   ]
  },
  {
   "cell_type": "code",
   "execution_count": 4,
   "metadata": {},
   "outputs": [],
   "source": [
    "for i in range(10):\n",
    "    continue\n"
   ]
  },
  {
   "cell_type": "code",
   "execution_count": 3,
   "metadata": {},
   "outputs": [
    {
     "name": "stdout",
     "output_type": "stream",
     "text": [
      "1\n",
      "1\n",
      "2\n",
      "3\n",
      "5\n",
      "8\n"
     ]
    }
   ],
   "source": [
    "x, y = 0, 1\n",
    "while y < 10:\n",
    "    print(y)\n",
    "    x, y = y, x+y"
   ]
  },
  {
   "cell_type": "code",
   "execution_count": 5,
   "metadata": {},
   "outputs": [
    {
     "name": "stdout",
     "output_type": "stream",
     "text": [
      "[1, 2, 3, 4, 5, 66, 77]\n"
     ]
    }
   ],
   "source": [
    "numeros = [3, 4, 5, 66, 77, 1, 2]\n",
    "for i in range(len(numeros)):\n",
    "    for j in range(0, len(numeros)-i-1):\n",
    "        if numeros[j] > numeros[j+1]:\n",
    "            numeros[j], numeros[j+1] = numeros[j+1], numeros[j]\n",
    "print(numeros)"
   ]
  },
  {
   "cell_type": "code",
   "execution_count": 7,
   "metadata": {},
   "outputs": [
    {
     "name": "stdout",
     "output_type": "stream",
     "text": [
      "[1, 2, 3, 4, 5, 66, 77]\n"
     ]
    }
   ],
   "source": [
    "for i in range(len(numeros)):\n",
    "    for j in range(i,len(numeros)):\n",
    "        if numeros[i] > numeros[j]:\n",
    "            numeros[i], numeros[j] = numeros[j], numeros[i]\n",
    "print(numeros)"
   ]
  },
  {
   "cell_type": "code",
   "execution_count": null,
   "metadata": {},
   "outputs": [],
   "source": []
  },
  {
   "cell_type": "code",
   "execution_count": 17,
   "metadata": {},
   "outputs": [],
   "source": [
    "def recorre(a1, r, n):\n",
    "    resu = []\n",
    "    for i in range(n):\n",
    "        ai = a1 + r*i\n",
    "        resu.append(ai)\n",
    "    return resu"
   ]
  },
  {
   "cell_type": "code",
   "execution_count": 18,
   "metadata": {},
   "outputs": [],
   "source": [
    "x = recorre(2.5, 3.33, 10)"
   ]
  },
  {
   "cell_type": "code",
   "execution_count": 20,
   "metadata": {},
   "outputs": [
    {
     "data": {
      "text/plain": [
       "[2.5, 5.83, 9.16, 12.49, 15.82, 19.15, 22.48, 25.810000000000002, 29.14, 32.47]"
      ]
     },
     "execution_count": 20,
     "metadata": {},
     "output_type": "execute_result"
    }
   ],
   "source": [
    "x"
   ]
  },
  {
   "cell_type": "code",
   "execution_count": null,
   "metadata": {},
   "outputs": [],
   "source": []
  }
 ],
 "metadata": {
  "kernelspec": {
   "display_name": "Python 3",
   "language": "python",
   "name": "python3"
  },
  "language_info": {
   "codemirror_mode": {
    "name": "ipython",
    "version": 3
   },
   "file_extension": ".py",
   "mimetype": "text/x-python",
   "name": "python",
   "nbconvert_exporter": "python",
   "pygments_lexer": "ipython3",
   "version": "3.0.0"
  }
 },
 "nbformat": 4,
 "nbformat_minor": 2
}
